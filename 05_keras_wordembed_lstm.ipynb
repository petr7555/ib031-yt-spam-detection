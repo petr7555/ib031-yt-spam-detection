{
 "cells": [
  {
   "cell_type": "markdown",
   "id": "automatic-cannon",
   "metadata": {},
   "source": [
    "# Magnitude word embeddings + Keras LSTM"
   ]
  },
  {
   "cell_type": "markdown",
   "id": "alone-shuttle",
   "metadata": {},
   "source": [
    "https://colab.research.google.com/drive/1lOcAhIffLW8XC6QsKzt5T_ZqPP4Y9eS4#scrollTo=eHiu14ba0Jkz"
   ]
  },
  {
   "cell_type": "code",
   "execution_count": 11,
   "id": "excess-impression",
   "metadata": {},
   "outputs": [],
   "source": [
    "from ipynb.fs.full.data_loader import load_train_test_data\n",
    "from ipynb.fs.full.utils import eval_keras\n",
    "\n",
    "from tensorflow.keras.models import Sequential\n",
    "from tensorflow.keras.layers import GaussianNoise, LSTM, Bidirectional, Dropout, Dense\n",
    "from tensorflow.keras.optimizers import Adam\n",
    "from tensorflow.keras.wrappers.scikit_learn import KerasClassifier\n",
    "\n",
    "from sklearn.pipeline import make_pipeline\n",
    "from sklearn.feature_extraction.text import CountVectorizer\n",
    "\n",
    "from pymagnitude import Magnitude, MagnitudeUtils\n",
    "from nltk.tokenize import word_tokenize\n",
    "\n",
    "from math import ceil\n",
    "import numpy as np\n",
    "\n",
    "from __future__ import print_function"
   ]
  },
  {
   "cell_type": "markdown",
   "id": "intellectual-eleven",
   "metadata": {},
   "source": [
    "---"
   ]
  },
  {
   "cell_type": "code",
   "execution_count": 12,
   "id": "meaning-williams",
   "metadata": {},
   "outputs": [],
   "source": [
    "MAX_WORDS = 50 # TODO make at least 50; The maximum number of words the sequence model will consider\n",
    "STD_DEV = 0.01 # Deviation of noise for Gaussian Noise applied to the embeddings\n",
    "HIDDEN_UNITS = 100 # The number of hidden units from the LSTM\n",
    "DROPOUT_RATIO = .8 # The ratio to dropout\n",
    "BATCH_SIZE = 100 # The number of examples per train/validation step\n",
    "EPOCHS = 50 # The number of times to repeat through all of the training data\n",
    "LEARNING_RATE = .01 # The learning rate for the optimizer\n",
    "\n",
    "vectors = Magnitude('~/.magnitude/wiki-news-300d-1M.magnitude', pad_to_length = MAX_WORDS)"
   ]
  },
  {
   "cell_type": "code",
   "execution_count": 13,
   "id": "expressed-silence",
   "metadata": {},
   "outputs": [],
   "source": [
    "train_X, test_X, train_y, test_y = load_train_test_data()"
   ]
  },
  {
   "cell_type": "code",
   "execution_count": 14,
   "id": "adjusted-paragraph",
   "metadata": {},
   "outputs": [],
   "source": [
    "# tokenizer = CountVectorizer(stop_words=\"english\").build_analyzer()\n",
    "# train_X_tokenized = [tokenizer(review) for review in train_X]"
   ]
  },
  {
   "cell_type": "code",
   "execution_count": 15,
   "id": "above-seventh",
   "metadata": {},
   "outputs": [],
   "source": [
    "def create_model_accuracy():\n",
    "    model = Sequential()\n",
    "\n",
    "    model.add(GaussianNoise(STD_DEV, input_shape=(MAX_WORDS, vectors.dim)))\n",
    "    model.add(Bidirectional(LSTM(HIDDEN_UNITS, activation='tanh'), merge_mode='concat'))\n",
    "    model.add(Dropout(DROPOUT_RATIO))\n",
    "    model.add(Dense(1, activation='sigmoid'))\n",
    "    \n",
    "    model.compile(\n",
    "        loss='binary_crossentropy',\n",
    "        optimizer=Adam(lr=LEARNING_RATE),\n",
    "        metrics=['accuracy'])\n",
    "    \n",
    "    return model"
   ]
  },
  {
   "cell_type": "code",
   "execution_count": 16,
   "id": "noble-diagram",
   "metadata": {},
   "outputs": [],
   "source": [
    "# TODO how does handle 3D input from magnitude (each word is list)?\n",
    "# vectors.query([\"cat\", \"dog\"])[1]\n",
    "\n",
    "def create_model_categorical_accuracy():\n",
    "    model = Sequential()\n",
    "\n",
    "    model.add(GaussianNoise(STD_DEV, input_shape=(MAX_WORDS, vectors.dim)))\n",
    "    model.add(Bidirectional(LSTM(HIDDEN_UNITS, activation='tanh'), merge_mode='concat'))\n",
    "    model.add(Dropout(DROPOUT_RATIO))\n",
    "    model.add(Dense(2, activation='softmax'))\n",
    "    \n",
    "    model.compile(\n",
    "        loss='categorical_crossentropy',\n",
    "        optimizer=Adam(lr=LEARNING_RATE),\n",
    "        metrics=['categorical_accuracy'])\n",
    "    \n",
    "    return model"
   ]
  },
  {
   "cell_type": "code",
   "execution_count": 17,
   "id": "armed-float",
   "metadata": {},
   "outputs": [],
   "source": [
    "def embed(df):\n",
    "    tokenized = [word_tokenize(line) for line in df]\n",
    "    embeddings = vectors.query(tokenized)\n",
    "    return embeddings"
   ]
  },
  {
   "cell_type": "code",
   "execution_count": 18,
   "id": "functioning-evidence",
   "metadata": {},
   "outputs": [
    {
     "name": "stdout",
     "output_type": "stream",
     "text": [
      "Epoch 1/5\n",
      "36/36 [==============================] - 4s 56ms/step - loss: 0.5973 - accuracy: 0.6890 - val_loss: 0.2414 - val_accuracy: 0.9120\n",
      "Epoch 2/5\n",
      "36/36 [==============================] - 1s 38ms/step - loss: 0.3587 - accuracy: 0.8759 - val_loss: 0.2266 - val_accuracy: 0.9120\n",
      "Epoch 3/5\n",
      "36/36 [==============================] - 1s 37ms/step - loss: 0.2346 - accuracy: 0.9118 - val_loss: 0.1775 - val_accuracy: 0.9680\n",
      "Epoch 4/5\n",
      "36/36 [==============================] - 1s 38ms/step - loss: 0.2112 - accuracy: 0.9139 - val_loss: 0.1528 - val_accuracy: 0.9520\n",
      "Epoch 5/5\n",
      "36/36 [==============================] - 1s 39ms/step - loss: 0.2364 - accuracy: 0.9271 - val_loss: 0.1505 - val_accuracy: 0.9440\n",
      "Test loss: 0.1629543900489807\n",
      "Test accuracy: 0.9488818049430847\n"
     ]
    }
   ],
   "source": [
    "model_acc = create_model_accuracy()\n",
    "model_acc.fit(embed(train_X), train_y, epochs=5, batch_size=32, validation_split=0.1)\n",
    "eval_keras(model_acc, embed(test_X), test_y)"
   ]
  },
  {
   "cell_type": "code",
   "execution_count": 19,
   "id": "unexpected-cooling",
   "metadata": {},
   "outputs": [
    {
     "data": {
      "text/plain": [
       "array([[0.9153353]], dtype=float32)"
      ]
     },
     "execution_count": 19,
     "metadata": {},
     "output_type": "execute_result"
    }
   ],
   "source": [
    "model_acc.predict(embed([\"sharika https://\"]))"
   ]
  },
  {
   "cell_type": "code",
   "execution_count": 20,
   "id": "selected-audio",
   "metadata": {},
   "outputs": [
    {
     "name": "stdout",
     "output_type": "stream",
     "text": [
      "Epoch 1/5\n",
      "36/36 [==============================] - 4s 53ms/step - loss: 0.5656 - categorical_accuracy: 0.6975 - val_loss: 0.2361 - val_categorical_accuracy: 0.9040\n",
      "Epoch 2/5\n",
      "36/36 [==============================] - 1s 40ms/step - loss: 0.2354 - categorical_accuracy: 0.9091 - val_loss: 0.2406 - val_categorical_accuracy: 0.9280\n",
      "Epoch 3/5\n",
      "36/36 [==============================] - 2s 43ms/step - loss: 0.2631 - categorical_accuracy: 0.9154 - val_loss: 0.1792 - val_categorical_accuracy: 0.9520\n",
      "Epoch 4/5\n",
      "36/36 [==============================] - 1s 36ms/step - loss: 0.1965 - categorical_accuracy: 0.9417 - val_loss: 0.2644 - val_categorical_accuracy: 0.8800\n",
      "Epoch 5/5\n",
      "36/36 [==============================] - 1s 34ms/step - loss: 0.1897 - categorical_accuracy: 0.9457 - val_loss: 0.1358 - val_categorical_accuracy: 0.9600\n",
      "Test loss: 0.1688094437122345\n",
      "Test accuracy: 0.9297124743461609\n"
     ]
    }
   ],
   "source": [
    "model_cat_acc = create_model_categorical_accuracy()\n",
    "model_cat_acc.fit(embed(train_X), MagnitudeUtils.to_categorical(train_y, 2), epochs=5, batch_size=32, validation_split=0.1)\n",
    "eval_keras(model_cat_acc, embed(test_X), MagnitudeUtils.to_categorical(test_y, 2))"
   ]
  },
  {
   "cell_type": "code",
   "execution_count": 21,
   "id": "suffering-magnet",
   "metadata": {},
   "outputs": [
    {
     "data": {
      "text/plain": [
       "array([[0.00447831, 0.99552166]], dtype=float32)"
      ]
     },
     "execution_count": 21,
     "metadata": {},
     "output_type": "execute_result"
    }
   ],
   "source": [
    "model_cat_acc.predict(embed([\"sharika https://\"]))"
   ]
  },
  {
   "cell_type": "code",
   "execution_count": 22,
   "id": "knowing-aquatic",
   "metadata": {},
   "outputs": [],
   "source": [
    "# TODO weird accuracy\n",
    "def create_model3():\n",
    "    model = Sequential()\n",
    "\n",
    "    model.add(GaussianNoise(STD_DEV, input_shape=(MAX_WORDS, vectors.dim)))\n",
    "    model.add(Bidirectional(LSTM(HIDDEN_UNITS, activation='tanh'), merge_mode='concat'))\n",
    "    model.add(Dropout(DROPOUT_RATIO))\n",
    "    model.add(Dense(1, activation='sigmoid'))\n",
    "    \n",
    "    model.compile(\n",
    "        loss='binary_crossentropy',\n",
    "        optimizer=Adam(lr=LEARNING_RATE),\n",
    "        metrics=['categorical_accuracy'])\n",
    "    \n",
    "    return model\n",
    "    \n",
    "    return model"
   ]
  },
  {
   "cell_type": "code",
   "execution_count": 23,
   "id": "genetic-fireplace",
   "metadata": {},
   "outputs": [
    {
     "name": "stdout",
     "output_type": "stream",
     "text": [
      "Epoch 1/5\n",
      "36/36 [==============================] - 4s 56ms/step - loss: 0.6117 - categorical_accuracy: 1.0000 - val_loss: 0.3487 - val_categorical_accuracy: 1.0000\n",
      "Epoch 2/5\n",
      "36/36 [==============================] - 1s 35ms/step - loss: 0.2930 - categorical_accuracy: 1.0000 - val_loss: 0.1356 - val_categorical_accuracy: 1.0000\n",
      "Epoch 3/5\n",
      "36/36 [==============================] - 1s 36ms/step - loss: 0.2123 - categorical_accuracy: 1.0000 - val_loss: 0.2943 - val_categorical_accuracy: 1.0000\n",
      "Epoch 4/5\n",
      "36/36 [==============================] - 2s 46ms/step - loss: 0.2330 - categorical_accuracy: 1.0000 - val_loss: 0.1624 - val_categorical_accuracy: 1.0000\n",
      "Epoch 5/5\n",
      "36/36 [==============================] - 1s 41ms/step - loss: 0.1816 - categorical_accuracy: 1.0000 - val_loss: 0.2281 - val_categorical_accuracy: 1.0000\n",
      "Test loss: 0.22809937596321106\n",
      "Test accuracy: 1.0\n"
     ]
    }
   ],
   "source": [
    "model3 = create_model3()\n",
    "model3.fit(embed(train_X), train_y, epochs=5, batch_size=32, validation_split=0.1)\n",
    "eval_keras(model3, embed(test_X), test_y)"
   ]
  },
  {
   "cell_type": "code",
   "execution_count": 24,
   "id": "covered-cheat",
   "metadata": {},
   "outputs": [
    {
     "data": {
      "text/plain": [
       "array([[0.99906766],\n",
       "       [0.0307785 ],\n",
       "       [0.5196377 ],\n",
       "       [0.28241655],\n",
       "       [0.16814643],\n",
       "       [0.06639221],\n",
       "       [0.999691  ],\n",
       "       [0.9733412 ],\n",
       "       [0.99023247],\n",
       "       [0.00595078]], dtype=float32)"
      ]
     },
     "execution_count": 24,
     "metadata": {},
     "output_type": "execute_result"
    }
   ],
   "source": [
    "model3.predict(embed(test_X[:10]))"
   ]
  },
  {
   "cell_type": "code",
   "execution_count": null,
   "id": "stuffed-positive",
   "metadata": {},
   "outputs": [],
   "source": [
    "\n"
   ]
  }
 ],
 "metadata": {
  "kernelspec": {
   "display_name": "Python [conda env:ib031] *",
   "language": "python",
   "name": "conda-env-ib031-py"
  },
  "language_info": {
   "codemirror_mode": {
    "name": "ipython",
    "version": 3
   },
   "file_extension": ".py",
   "mimetype": "text/x-python",
   "name": "python",
   "nbconvert_exporter": "python",
   "pygments_lexer": "ipython3",
   "version": "3.8.8"
  }
 },
 "nbformat": 4,
 "nbformat_minor": 5
}
