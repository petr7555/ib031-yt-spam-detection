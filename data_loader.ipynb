{
 "cells": [
  {
   "cell_type": "code",
   "execution_count": 1,
   "id": "cooperative-richmond",
   "metadata": {},
   "outputs": [],
   "source": [
    "import pandas as pd\n",
    "from sklearn.model_selection import train_test_split\n",
    "from ipynb.fs.full.constants import RANDOM_STATE"
   ]
  },
  {
   "cell_type": "code",
   "execution_count": 2,
   "id": "simple-switch",
   "metadata": {},
   "outputs": [],
   "source": [
    "def load_all_data(drop_duplicates=True):\n",
    "    data_dir = \"data\"\n",
    "\n",
    "    psy = pd.read_csv(f\"{data_dir}/Youtube01-Psy.csv\", parse_dates=[\"DATE\"])\n",
    "    katy = pd.read_csv(f\"{data_dir}/Youtube02-KatyPerry.csv\", parse_dates=[\"DATE\"])\n",
    "    lmfao = pd.read_csv(f\"{data_dir}/Youtube03-LMFAO.csv\", parse_dates=[\"DATE\"])\n",
    "    eminem = pd.read_csv(f\"{data_dir}/Youtube04-Eminem.csv\", parse_dates=[\"DATE\"])\n",
    "    shakira = pd.read_csv(f\"{data_dir}/Youtube05-Shakira.csv\", parse_dates=[\"DATE\"])\n",
    "    \n",
    "    all_datasets = [psy, katy, lmfao, eminem, shakira]\n",
    "    dataset_names = [\"psy\", \"katy\", \"lmfao\", \"eminem\", \"shakira\"]\n",
    "\n",
    "    # keep info about which video the comment appeared in\n",
    "    for dataset_name, dataset in zip(dataset_names, all_datasets):\n",
    "        dataset[\"INTERPRET\"] = dataset_name\n",
    "\n",
    "    # join all datasets\n",
    "    joined = pd.concat(all_datasets).reset_index(drop=True)\n",
    "    \n",
    "    # common preprocessing\n",
    "    if drop_duplicates:\n",
    "        joined.drop_duplicates(inplace=True)\n",
    "    \n",
    "    # convert object types to strings\n",
    "    object_cols = joined.select_dtypes(\"object\").columns\n",
    "    joined[object_cols] = joined[object_cols].astype(\"string\")\n",
    "    \n",
    "    return joined"
   ]
  },
  {
   "cell_type": "code",
   "execution_count": 3,
   "id": "contrary-myanmar",
   "metadata": {},
   "outputs": [],
   "source": [
    "def load_data():\n",
    "    all_data = load_all_data()\n",
    "    \n",
    "    df, final_test_df = train_test_split(\n",
    "        all_data, test_size=0.2, random_state=RANDOM_STATE\n",
    "    )\n",
    "    \n",
    "    return df"
   ]
  },
  {
   "cell_type": "code",
   "execution_count": 4,
   "id": "threaded-cattle",
   "metadata": {},
   "outputs": [],
   "source": [
    "def load_final_test_data():\n",
    "    all_data = load_all_data()\n",
    "    \n",
    "    df, final_test_df = train_test_split(\n",
    "        all_data, test_size=0.2, random_state=RANDOM_STATE\n",
    "    )\n",
    "    \n",
    "    return final_test_df"
   ]
  },
  {
   "cell_type": "code",
   "execution_count": 5,
   "id": "sapphire-transfer",
   "metadata": {},
   "outputs": [],
   "source": [
    "def load_train_test_all_cols_data(test_size=0.2):\n",
    "    df = load_data()\n",
    "    df_X, df_y = df.drop(columns=\"CLASS\"), df.CLASS\n",
    "    \n",
    "    splits = train_test_split(\n",
    "        df_X, df_y, test_size=test_size, random_state=RANDOM_STATE\n",
    "    )\n",
    "    \n",
    "    for split in splits:\n",
    "        split.reset_index(drop=True, inplace=True)\n",
    "\n",
    "    return splits"
   ]
  },
  {
   "cell_type": "code",
   "execution_count": 6,
   "id": "expensive-patch",
   "metadata": {},
   "outputs": [],
   "source": [
    "def load_train_test_data(test_size=0.2):\n",
    "    df = load_data()\n",
    "    df_X, df_y = df.CONTENT, df.CLASS\n",
    "    \n",
    "    splits = train_test_split(\n",
    "        df_X, df_y, test_size=test_size, random_state=RANDOM_STATE\n",
    "    )\n",
    "    \n",
    "    for split in splits:\n",
    "        split.reset_index(drop=True, inplace=True)\n",
    "        \n",
    "    return splits"
   ]
  },
  {
   "cell_type": "code",
   "execution_count": 7,
   "id": "acceptable-compact",
   "metadata": {},
   "outputs": [],
   "source": [
    "assert load_all_data().shape == (1953, 6)"
   ]
  },
  {
   "cell_type": "code",
   "execution_count": 8,
   "id": "excess-stanford",
   "metadata": {},
   "outputs": [],
   "source": [
    "assert load_data().shape == (1562, 6)"
   ]
  },
  {
   "cell_type": "code",
   "execution_count": 9,
   "id": "defensive-contamination",
   "metadata": {},
   "outputs": [],
   "source": [
    "assert load_final_test_data().shape == (391, 6)"
   ]
  },
  {
   "cell_type": "code",
   "execution_count": null,
   "id": "british-secondary",
   "metadata": {},
   "outputs": [],
   "source": []
  }
 ],
 "metadata": {
  "kernelspec": {
   "display_name": "Python [conda env:ib031] *",
   "language": "python",
   "name": "conda-env-ib031-py"
  },
  "language_info": {
   "codemirror_mode": {
    "name": "ipython",
    "version": 3
   },
   "file_extension": ".py",
   "mimetype": "text/x-python",
   "name": "python",
   "nbconvert_exporter": "python",
   "pygments_lexer": "ipython3",
   "version": "3.8.8"
  }
 },
 "nbformat": 4,
 "nbformat_minor": 5
}
