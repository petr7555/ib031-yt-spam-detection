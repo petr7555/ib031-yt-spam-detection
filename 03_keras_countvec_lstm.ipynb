{
 "cells": [
  {
   "cell_type": "markdown",
   "id": "occupational-honey",
   "metadata": {},
   "source": [
    "# CountVectorizer + Keras LSTM"
   ]
  },
  {
   "cell_type": "markdown",
   "id": "seeing-antibody",
   "metadata": {},
   "source": [
    "It does not make sense to use bag of words model with neural network that relies on order of words."
   ]
  },
  {
   "cell_type": "code",
   "execution_count": 1,
   "id": "hybrid-zoning",
   "metadata": {},
   "outputs": [],
   "source": [
    "from ipynb.fs.full.data_loader import load_train_test_data\n",
    "from ipynb.fs.full.transformers import DenseTransformer\n",
    "\n",
    "from tensorflow.keras.models import Sequential\n",
    "from tensorflow.keras.layers import Embedding, Bidirectional, LSTM, Dense\n",
    "from tensorflow.keras.wrappers.scikit_learn import KerasClassifier\n",
    "\n",
    "from sklearn.feature_extraction.text import CountVectorizer\n",
    "from sklearn.pipeline import make_pipeline"
   ]
  },
  {
   "cell_type": "markdown",
   "id": "developing-process",
   "metadata": {},
   "source": [
    "---"
   ]
  },
  {
   "cell_type": "code",
   "execution_count": 2,
   "id": "dental-melissa",
   "metadata": {},
   "outputs": [],
   "source": [
    "train_X, test_X, train_y, test_y = load_train_test_data()"
   ]
  },
  {
   "cell_type": "code",
   "execution_count": 3,
   "id": "level-system",
   "metadata": {
    "tags": []
   },
   "outputs": [],
   "source": [
    "def create_model():\n",
    "    model = Sequential()\n",
    "    \n",
    "    model.add(Embedding(3242, 128))\n",
    "    model.add(Bidirectional(LSTM(64, return_sequences=True)))\n",
    "    model.add(Bidirectional(LSTM(64)))\n",
    "    model.add(Dense(1, activation='sigmoid'))\n",
    "\n",
    "    model.compile(loss='binary_crossentropy',\n",
    "                  optimizer='adam',\n",
    "                  metrics=['accuracy'])\n",
    "    return model"
   ]
  },
  {
   "cell_type": "code",
   "execution_count": 4,
   "id": "otherwise-intersection",
   "metadata": {},
   "outputs": [
    {
     "name": "stdout",
     "output_type": "stream",
     "text": [
      "36/36 [==============================] - 172s 5s/step - loss: 0.6942 - accuracy: 0.4833 - val_loss: 0.6927 - val_accuracy: 0.5200\n"
     ]
    },
    {
     "data": {
      "text/plain": [
       "Pipeline(steps=[('countvectorizer', CountVectorizer()),\n",
       "                ('densetransformer',\n",
       "                 <ipynb.fs.full.transformers.DenseTransformer object at 0x7fdf35a542e0>),\n",
       "                ('kerasclassifier',\n",
       "                 <tensorflow.python.keras.wrappers.scikit_learn.KerasClassifier object at 0x7fdf35a54130>)])"
      ]
     },
     "execution_count": 4,
     "metadata": {},
     "output_type": "execute_result"
    }
   ],
   "source": [
    "clf = make_pipeline(\n",
    "    CountVectorizer(),\n",
    "    DenseTransformer(),\n",
    "    KerasClassifier(create_model, epochs=1, batch_size=32, validation_split=0.1)\n",
    ")\n",
    "\n",
    "clf.fit(train_X, train_y)"
   ]
  },
  {
   "cell_type": "code",
   "execution_count": 5,
   "id": "balanced-species",
   "metadata": {},
   "outputs": [
    {
     "name": "stdout",
     "output_type": "stream",
     "text": [
      "10/10 [==============================] - 8s 790ms/step - loss: 0.6938 - accuracy: 0.4792\n"
     ]
    },
    {
     "data": {
      "text/plain": [
       "0.4792332351207733"
      ]
     },
     "execution_count": 5,
     "metadata": {},
     "output_type": "execute_result"
    }
   ],
   "source": [
    "clf.score(test_X, test_y)"
   ]
  },
  {
   "cell_type": "code",
   "execution_count": null,
   "id": "spatial-general",
   "metadata": {},
   "outputs": [],
   "source": []
  }
 ],
 "metadata": {
  "kernelspec": {
   "display_name": "Python [conda env:ib031] *",
   "language": "python",
   "name": "conda-env-ib031-py"
  },
  "language_info": {
   "codemirror_mode": {
    "name": "ipython",
    "version": 3
   },
   "file_extension": ".py",
   "mimetype": "text/x-python",
   "name": "python",
   "nbconvert_exporter": "python",
   "pygments_lexer": "ipython3",
   "version": "3.8.8"
  }
 },
 "nbformat": 4,
 "nbformat_minor": 5
}
