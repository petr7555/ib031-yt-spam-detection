{
 "cells": [
  {
   "cell_type": "markdown",
   "id": "involved-robin",
   "metadata": {},
   "source": [
    "# CountVectorizer + Keras MLP"
   ]
  },
  {
   "cell_type": "code",
   "execution_count": 1,
   "id": "ruled-point",
   "metadata": {},
   "outputs": [],
   "source": [
    "from ipynb.fs.full.data_loader import load_train_test_data\n",
    "from ipynb.fs.full.transformers import DenseTransformer\n",
    "\n",
    "from tensorflow.keras.models import Sequential\n",
    "from tensorflow.keras.layers import Dense\n",
    "from tensorflow.keras.wrappers.scikit_learn import KerasClassifier\n",
    "\n",
    "from sklearn.feature_extraction.text import CountVectorizer, TfidfVectorizer\n",
    "from sklearn.pipeline import make_pipeline"
   ]
  },
  {
   "cell_type": "markdown",
   "id": "geographic-couple",
   "metadata": {},
   "source": [
    "---"
   ]
  },
  {
   "cell_type": "code",
   "execution_count": 2,
   "id": "superior-picture",
   "metadata": {},
   "outputs": [],
   "source": [
    "train_X, test_X, train_y, test_y = load_train_test_data()"
   ]
  },
  {
   "cell_type": "code",
   "execution_count": 3,
   "id": "southwest-tuner",
   "metadata": {},
   "outputs": [],
   "source": [
    "def create_model():\n",
    "    model = Sequential()\n",
    "    \n",
    "    model.add(Dense(512, activation='relu'))\n",
    "    model.add(Dense(256, activation='relu'))\n",
    "    model.add(Dense(128, activation='relu'))\n",
    "    model.add(Dense(1, activation='sigmoid'))\n",
    "\n",
    "    model.compile(loss='binary_crossentropy',\n",
    "                  optimizer='adam',\n",
    "                  metrics=['accuracy'])\n",
    "    return model"
   ]
  },
  {
   "cell_type": "code",
   "execution_count": 4,
   "id": "conventional-nylon",
   "metadata": {},
   "outputs": [
    {
     "name": "stdout",
     "output_type": "stream",
     "text": [
      "Epoch 1/5\n",
      "36/36 [==============================] - 1s 27ms/step - loss: 0.5381 - accuracy: 0.7107 - val_loss: 0.1227 - val_accuracy: 0.9600\n",
      "Epoch 2/5\n",
      "36/36 [==============================] - 0s 8ms/step - loss: 0.0628 - accuracy: 0.9799 - val_loss: 0.0342 - val_accuracy: 0.9920\n",
      "Epoch 3/5\n",
      "36/36 [==============================] - 0s 8ms/step - loss: 0.0143 - accuracy: 0.9963 - val_loss: 0.1412 - val_accuracy: 0.9760\n",
      "Epoch 4/5\n",
      "36/36 [==============================] - 0s 7ms/step - loss: 0.0024 - accuracy: 1.0000 - val_loss: 0.0961 - val_accuracy: 0.9760\n",
      "Epoch 5/5\n",
      "36/36 [==============================] - 0s 7ms/step - loss: 9.1047e-04 - accuracy: 1.0000 - val_loss: 0.1084 - val_accuracy: 0.9760\n",
      "10/10 [==============================] - 0s 2ms/step - loss: 0.2974 - accuracy: 0.9489\n"
     ]
    },
    {
     "data": {
      "text/plain": [
       "0.9488818049430847"
      ]
     },
     "execution_count": 4,
     "metadata": {},
     "output_type": "execute_result"
    }
   ],
   "source": [
    "clf = make_pipeline(\n",
    "    CountVectorizer(),\n",
    "    DenseTransformer(),\n",
    "    KerasClassifier(create_model, epochs=5, batch_size=32, validation_split=0.1)\n",
    ")\n",
    "\n",
    "clf.fit(train_X, train_y)\n",
    "clf.score(test_X, test_y)"
   ]
  },
  {
   "cell_type": "code",
   "execution_count": 5,
   "id": "innovative-greenhouse",
   "metadata": {},
   "outputs": [
    {
     "name": "stderr",
     "output_type": "stream",
     "text": [
      "/Users/petr.janik/opt/anaconda3/envs/ib031/lib/python3.8/site-packages/tensorflow/python/keras/engine/sequential.py:450: UserWarning: `model.predict_classes()` is deprecated and will be removed after 2021-01-01. Please use instead:* `np.argmax(model.predict(x), axis=-1)`,   if your model does multi-class classification   (e.g. if it uses a `softmax` last-layer activation).* `(model.predict(x) > 0.5).astype(\"int32\")`,   if your model does binary classification   (e.g. if it uses a `sigmoid` last-layer activation).\n",
      "  warnings.warn('`model.predict_classes()` is deprecated and '\n"
     ]
    },
    {
     "data": {
      "text/plain": [
       "array([[1],\n",
       "       [0],\n",
       "       [1],\n",
       "       [0],\n",
       "       [0],\n",
       "       [0],\n",
       "       [1],\n",
       "       [1],\n",
       "       [1],\n",
       "       [0]])"
      ]
     },
     "execution_count": 5,
     "metadata": {},
     "output_type": "execute_result"
    }
   ],
   "source": [
    "clf.predict(test_X[:10])"
   ]
  },
  {
   "cell_type": "markdown",
   "id": "narrative-essence",
   "metadata": {},
   "source": [
    "### TfidfVectorizer – performs similarly to CountVectorizer"
   ]
  },
  {
   "cell_type": "code",
   "execution_count": 6,
   "id": "crucial-fiber",
   "metadata": {},
   "outputs": [
    {
     "name": "stdout",
     "output_type": "stream",
     "text": [
      "Epoch 1/5\n",
      "36/36 [==============================] - 1s 11ms/step - loss: 0.5946 - accuracy: 0.7973 - val_loss: 0.1390 - val_accuracy: 0.9600\n",
      "Epoch 2/5\n",
      "36/36 [==============================] - 0s 8ms/step - loss: 0.0429 - accuracy: 0.9804 - val_loss: 0.0947 - val_accuracy: 0.9680\n",
      "Epoch 3/5\n",
      "36/36 [==============================] - 0s 8ms/step - loss: 0.0096 - accuracy: 0.9983 - val_loss: 0.1129 - val_accuracy: 0.9680\n",
      "Epoch 4/5\n",
      "36/36 [==============================] - 0s 8ms/step - loss: 9.8904e-04 - accuracy: 1.0000 - val_loss: 0.1171 - val_accuracy: 0.9680\n",
      "Epoch 5/5\n",
      "36/36 [==============================] - 0s 8ms/step - loss: 4.3602e-04 - accuracy: 1.0000 - val_loss: 0.1205 - val_accuracy: 0.9680\n",
      "10/10 [==============================] - 0s 2ms/step - loss: 0.1689 - accuracy: 0.9521\n"
     ]
    },
    {
     "data": {
      "text/plain": [
       "0.9520766735076904"
      ]
     },
     "execution_count": 6,
     "metadata": {},
     "output_type": "execute_result"
    }
   ],
   "source": [
    "clf_tf = make_pipeline(\n",
    "    TfidfVectorizer(),\n",
    "    DenseTransformer(),\n",
    "    KerasClassifier(create_model, epochs=5, batch_size=32, validation_split=0.1)\n",
    ")\n",
    "\n",
    "clf_tf.fit(train_X, train_y)\n",
    "clf_tf.score(test_X, test_y)"
   ]
  },
  {
   "cell_type": "code",
   "execution_count": null,
   "id": "forward-somerset",
   "metadata": {},
   "outputs": [],
   "source": []
  }
 ],
 "metadata": {
  "kernelspec": {
   "display_name": "Python [conda env:ib031] *",
   "language": "python",
   "name": "conda-env-ib031-py"
  },
  "language_info": {
   "codemirror_mode": {
    "name": "ipython",
    "version": 3
   },
   "file_extension": ".py",
   "mimetype": "text/x-python",
   "name": "python",
   "nbconvert_exporter": "python",
   "pygments_lexer": "ipython3",
   "version": "3.8.8"
  }
 },
 "nbformat": 4,
 "nbformat_minor": 5
}
